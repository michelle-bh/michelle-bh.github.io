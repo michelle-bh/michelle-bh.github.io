{
 "cells": [
  {
   "cell_type": "markdown",
   "metadata": {},
   "source": [
    "# Explore the Electric Vehicles Sales Data"
   ]
  },
  {
   "cell_type": "code",
   "execution_count": 1,
   "metadata": {},
   "outputs": [],
   "source": [
    "# Import Functions\n",
    "import numpy as np  \n",
    "import pandas as pd\n",
    "import matplotlib.pyplot as plt\n",
    "import seaborn as sns\n",
    "import plotly.figure_factory as ff\n",
    "import plotly.express as px\n",
    "\n",
    "import warnings\n",
    "warnings.filterwarnings('ignore')"
   ]
  },
  {
   "cell_type": "code",
   "execution_count": 2,
   "metadata": {},
   "outputs": [],
   "source": [
    "# Set your custom color palette\n",
    "\n",
    "colors = [\"#FF0B04\", \"#4374B3\"]\n",
    "cust_colors = sns.set_palette(sns.color_palette(colors))\n",
    "#sns.set_palette(sns.color_palette(colors))\n",
    "red = \"#FF0B04\"\n",
    "blue = \"#4374B3\"\n",
    "combined = \"#782F98\""
   ]
  },
  {
   "cell_type": "markdown",
   "metadata": {},
   "source": [
    "## Load and Review the Electric Vehicles Data"
   ]
  },
  {
   "cell_type": "code",
   "execution_count": 3,
   "metadata": {
    "scrolled": false
   },
   "outputs": [
    {
     "name": "stdout",
     "output_type": "stream",
     "text": [
      "1st 10 Rows of EV Sales Data\n"
     ]
    },
    {
     "data": {
      "text/html": [
       "<div>\n",
       "<style scoped>\n",
       "    .dataframe tbody tr th:only-of-type {\n",
       "        vertical-align: middle;\n",
       "    }\n",
       "\n",
       "    .dataframe tbody tr th {\n",
       "        vertical-align: top;\n",
       "    }\n",
       "\n",
       "    .dataframe thead th {\n",
       "        text-align: right;\n",
       "    }\n",
       "</style>\n",
       "<table border=\"1\" class=\"dataframe\">\n",
       "  <thead>\n",
       "    <tr style=\"text-align: right;\">\n",
       "      <th></th>\n",
       "      <th>vin</th>\n",
       "      <th>county</th>\n",
       "      <th>city</th>\n",
       "      <th>state</th>\n",
       "      <th>zipcode</th>\n",
       "      <th>year</th>\n",
       "      <th>make</th>\n",
       "      <th>model</th>\n",
       "      <th>ev_type</th>\n",
       "      <th>cafv_eligibility</th>\n",
       "      <th>electric_range</th>\n",
       "      <th>base_msrp</th>\n",
       "      <th>legislative_district</th>\n",
       "    </tr>\n",
       "  </thead>\n",
       "  <tbody>\n",
       "    <tr>\n",
       "      <th>0</th>\n",
       "      <td>WBY8P6C58K</td>\n",
       "      <td>King</td>\n",
       "      <td>Seattle</td>\n",
       "      <td>WA</td>\n",
       "      <td>98115</td>\n",
       "      <td>2019</td>\n",
       "      <td>BMW</td>\n",
       "      <td>I3</td>\n",
       "      <td>BEV</td>\n",
       "      <td>CAFV Elegible</td>\n",
       "      <td>153</td>\n",
       "      <td>0</td>\n",
       "      <td>43</td>\n",
       "    </tr>\n",
       "    <tr>\n",
       "      <th>1</th>\n",
       "      <td>5YJSA1E26J</td>\n",
       "      <td>King</td>\n",
       "      <td>Kent</td>\n",
       "      <td>WA</td>\n",
       "      <td>98042</td>\n",
       "      <td>2018</td>\n",
       "      <td>TESLA</td>\n",
       "      <td>MODEL S</td>\n",
       "      <td>BEV</td>\n",
       "      <td>CAFV Elegible</td>\n",
       "      <td>249</td>\n",
       "      <td>0</td>\n",
       "      <td>47</td>\n",
       "    </tr>\n",
       "    <tr>\n",
       "      <th>2</th>\n",
       "      <td>5YJXCDE23J</td>\n",
       "      <td>King</td>\n",
       "      <td>Bellevue</td>\n",
       "      <td>WA</td>\n",
       "      <td>98004</td>\n",
       "      <td>2018</td>\n",
       "      <td>TESLA</td>\n",
       "      <td>MODEL X</td>\n",
       "      <td>BEV</td>\n",
       "      <td>CAFV Elegible</td>\n",
       "      <td>238</td>\n",
       "      <td>0</td>\n",
       "      <td>41</td>\n",
       "    </tr>\n",
       "    <tr>\n",
       "      <th>3</th>\n",
       "      <td>WBY33AW0XP</td>\n",
       "      <td>King</td>\n",
       "      <td>Seattle</td>\n",
       "      <td>WA</td>\n",
       "      <td>98109</td>\n",
       "      <td>2023</td>\n",
       "      <td>BMW</td>\n",
       "      <td>I4</td>\n",
       "      <td>BEV</td>\n",
       "      <td>Unknown/Not Researched</td>\n",
       "      <td>0</td>\n",
       "      <td>0</td>\n",
       "      <td>36</td>\n",
       "    </tr>\n",
       "    <tr>\n",
       "      <th>4</th>\n",
       "      <td>5YJ3E1EB5L</td>\n",
       "      <td>King</td>\n",
       "      <td>Bothell</td>\n",
       "      <td>WA</td>\n",
       "      <td>98011</td>\n",
       "      <td>2020</td>\n",
       "      <td>TESLA</td>\n",
       "      <td>MODEL 3</td>\n",
       "      <td>BEV</td>\n",
       "      <td>CAFV Elegible</td>\n",
       "      <td>322</td>\n",
       "      <td>0</td>\n",
       "      <td>1</td>\n",
       "    </tr>\n",
       "    <tr>\n",
       "      <th>5</th>\n",
       "      <td>1V2GNPE86P</td>\n",
       "      <td>King</td>\n",
       "      <td>Sammamish</td>\n",
       "      <td>WA</td>\n",
       "      <td>98075</td>\n",
       "      <td>2023</td>\n",
       "      <td>VOLKSWAGEN</td>\n",
       "      <td>ID.4</td>\n",
       "      <td>BEV</td>\n",
       "      <td>Unknown/Not Researched</td>\n",
       "      <td>0</td>\n",
       "      <td>0</td>\n",
       "      <td>41</td>\n",
       "    </tr>\n",
       "    <tr>\n",
       "      <th>6</th>\n",
       "      <td>5YJ3E1EB0M</td>\n",
       "      <td>Yakima</td>\n",
       "      <td>Yakima</td>\n",
       "      <td>WA</td>\n",
       "      <td>98908</td>\n",
       "      <td>2021</td>\n",
       "      <td>TESLA</td>\n",
       "      <td>MODEL 3</td>\n",
       "      <td>BEV</td>\n",
       "      <td>Unknown/Not Researched</td>\n",
       "      <td>0</td>\n",
       "      <td>0</td>\n",
       "      <td>14</td>\n",
       "    </tr>\n",
       "    <tr>\n",
       "      <th>7</th>\n",
       "      <td>1N4BZ1CP3K</td>\n",
       "      <td>Kitsap</td>\n",
       "      <td>Bainbridge Island</td>\n",
       "      <td>WA</td>\n",
       "      <td>98110</td>\n",
       "      <td>2019</td>\n",
       "      <td>NISSAN</td>\n",
       "      <td>LEAF</td>\n",
       "      <td>BEV</td>\n",
       "      <td>CAFV Elegible</td>\n",
       "      <td>150</td>\n",
       "      <td>0</td>\n",
       "      <td>23</td>\n",
       "    </tr>\n",
       "    <tr>\n",
       "      <th>8</th>\n",
       "      <td>5YJSA1E29J</td>\n",
       "      <td>Kitsap</td>\n",
       "      <td>Poulsbo</td>\n",
       "      <td>WA</td>\n",
       "      <td>98370</td>\n",
       "      <td>2018</td>\n",
       "      <td>TESLA</td>\n",
       "      <td>MODEL S</td>\n",
       "      <td>BEV</td>\n",
       "      <td>CAFV Elegible</td>\n",
       "      <td>249</td>\n",
       "      <td>0</td>\n",
       "      <td>23</td>\n",
       "    </tr>\n",
       "    <tr>\n",
       "      <th>9</th>\n",
       "      <td>KNDCC3LGXK</td>\n",
       "      <td>King</td>\n",
       "      <td>Kirkland</td>\n",
       "      <td>WA</td>\n",
       "      <td>98033</td>\n",
       "      <td>2019</td>\n",
       "      <td>KIA</td>\n",
       "      <td>NIRO</td>\n",
       "      <td>BEV</td>\n",
       "      <td>CAFV Elegible</td>\n",
       "      <td>239</td>\n",
       "      <td>0</td>\n",
       "      <td>45</td>\n",
       "    </tr>\n",
       "  </tbody>\n",
       "</table>\n",
       "</div>"
      ],
      "text/plain": [
       "          vin  county               city state  zipcode  year        make  \\\n",
       "0  WBY8P6C58K    King            Seattle    WA    98115  2019         BMW   \n",
       "1  5YJSA1E26J    King               Kent    WA    98042  2018       TESLA   \n",
       "2  5YJXCDE23J    King           Bellevue    WA    98004  2018       TESLA   \n",
       "3  WBY33AW0XP    King            Seattle    WA    98109  2023         BMW   \n",
       "4  5YJ3E1EB5L    King            Bothell    WA    98011  2020       TESLA   \n",
       "5  1V2GNPE86P    King          Sammamish    WA    98075  2023  VOLKSWAGEN   \n",
       "6  5YJ3E1EB0M  Yakima             Yakima    WA    98908  2021       TESLA   \n",
       "7  1N4BZ1CP3K  Kitsap  Bainbridge Island    WA    98110  2019      NISSAN   \n",
       "8  5YJSA1E29J  Kitsap            Poulsbo    WA    98370  2018       TESLA   \n",
       "9  KNDCC3LGXK    King           Kirkland    WA    98033  2019         KIA   \n",
       "\n",
       "     model ev_type        cafv_eligibility  electric_range  base_msrp  \\\n",
       "0       I3     BEV           CAFV Elegible             153          0   \n",
       "1  MODEL S     BEV           CAFV Elegible             249          0   \n",
       "2  MODEL X     BEV           CAFV Elegible             238          0   \n",
       "3       I4     BEV  Unknown/Not Researched               0          0   \n",
       "4  MODEL 3     BEV           CAFV Elegible             322          0   \n",
       "5     ID.4     BEV  Unknown/Not Researched               0          0   \n",
       "6  MODEL 3     BEV  Unknown/Not Researched               0          0   \n",
       "7     LEAF     BEV           CAFV Elegible             150          0   \n",
       "8  MODEL S     BEV           CAFV Elegible             249          0   \n",
       "9     NIRO     BEV           CAFV Elegible             239          0   \n",
       "\n",
       "   legislative_district  \n",
       "0                    43  \n",
       "1                    47  \n",
       "2                    41  \n",
       "3                    36  \n",
       "4                     1  \n",
       "5                    41  \n",
       "6                    14  \n",
       "7                    23  \n",
       "8                    23  \n",
       "9                    45  "
      ]
     },
     "execution_count": 3,
     "metadata": {},
     "output_type": "execute_result"
    }
   ],
   "source": [
    "# Create data frames for all records\n",
    "ev_df = pd.read_csv('Electric_Vehicle_Sales_Data.csv')\n",
    "\n",
    "print('1st 10 Rows of EV Sales Data')\n",
    "ev_df.head(10)"
   ]
  },
  {
   "cell_type": "code",
   "execution_count": 4,
   "metadata": {},
   "outputs": [
    {
     "name": "stdout",
     "output_type": "stream",
     "text": [
      "Checking Datatypes\n",
      "<class 'pandas.core.frame.DataFrame'>\n",
      "RangeIndex: 157240 entries, 0 to 157239\n",
      "Data columns (total 13 columns):\n",
      " #   Column                Non-Null Count   Dtype \n",
      "---  ------                --------------   ----- \n",
      " 0   vin                   157240 non-null  object\n",
      " 1   county                157240 non-null  object\n",
      " 2   city                  157240 non-null  object\n",
      " 3   state                 157240 non-null  object\n",
      " 4   zipcode               157240 non-null  int64 \n",
      " 5   year                  157240 non-null  int64 \n",
      " 6   make                  157240 non-null  object\n",
      " 7   model                 157240 non-null  object\n",
      " 8   ev_type               157240 non-null  object\n",
      " 9   cafv_eligibility      157240 non-null  object\n",
      " 10  electric_range        157240 non-null  int64 \n",
      " 11  base_msrp             157240 non-null  int64 \n",
      " 12  legislative_district  157240 non-null  int64 \n",
      "dtypes: int64(5), object(8)\n",
      "memory usage: 15.6+ MB\n"
     ]
    }
   ],
   "source": [
    "# Datatypes\n",
    "print('Checking Datatypes')\n",
    "\n",
    "ev_df.info()"
   ]
  },
  {
   "cell_type": "code",
   "execution_count": 5,
   "metadata": {},
   "outputs": [
    {
     "data": {
      "text/plain": [
       "(157240, 13)"
      ]
     },
     "execution_count": 5,
     "metadata": {},
     "output_type": "execute_result"
    }
   ],
   "source": [
    "# Number Rows and Columns\n",
    "\n",
    "ev_df.shape"
   ]
  },
  {
   "cell_type": "code",
   "execution_count": 6,
   "metadata": {
    "scrolled": true
   },
   "outputs": [
    {
     "name": "stdout",
     "output_type": "stream",
     "text": [
      "Looking for Columns with NULLS\n",
      "vin                     0\n",
      "county                  0\n",
      "city                    0\n",
      "state                   0\n",
      "zipcode                 0\n",
      "year                    0\n",
      "make                    0\n",
      "model                   0\n",
      "ev_type                 0\n",
      "cafv_eligibility        0\n",
      "electric_range          0\n",
      "base_msrp               0\n",
      "legislative_district    0\n",
      "dtype: int64\n"
     ]
    }
   ],
   "source": [
    "# Looking for Nulls\n",
    "print('Looking for Columns with NULLS')\n",
    "\n",
    "print(ev_df.isnull().sum())"
   ]
  },
  {
   "cell_type": "markdown",
   "metadata": {},
   "source": [
    "## Sales Counts"
   ]
  },
  {
   "cell_type": "code",
   "execution_count": 7,
   "metadata": {
    "scrolled": false
   },
   "outputs": [
    {
     "data": {
      "image/png": "[encoded data removed]",
      "text/plain": [
       "<Figure size 640x480 with 1 Axes>"
      ]
     },
     "metadata": {},
     "output_type": "display_data"
    }
   ],
   "source": [
    "# Counts by year\n",
    "\n",
    "ev_cp = sns.countplot(data = ev_df, x = 'year')\n",
    "\n",
    "ev_cp.set_title('Washington State Electric Vehicle Sales By Year - Before', \n",
    "                      fontdict={'size': 18, 'weight': 'bold', 'color': 'black'})\n",
    "ev_cp.set_xlabel('Year', fontdict={'size': 12, 'weight': 'bold'})\n",
    "ev_cp.set_ylabel('# Vehicles Sold', fontdict={'size': 12, 'weight': 'bold'})\n",
    "\n",
    "#Set x-axis labels bold\n",
    "plt.xticks(weight = 'bold')\n",
    "\n",
    "#Set y-axis labels and set to bold\n",
    "plt.yticks(weight = 'bold')\n",
    "\n",
    "# Show the plot\n",
    "plt.show()\n"
   ]
  },
  {
   "cell_type": "code",
   "execution_count": 8,
   "metadata": {
    "scrolled": true
   },
   "outputs": [
    {
     "name": "stdout",
     "output_type": "stream",
     "text": [
      "\n",
      "Top 5 Cities by Zipcode Count\n"
     ]
    },
    {
     "data": {
      "text/html": [
       "<div>\n",
       "<style scoped>\n",
       "    .dataframe tbody tr th:only-of-type {\n",
       "        vertical-align: middle;\n",
       "    }\n",
       "\n",
       "    .dataframe tbody tr th {\n",
       "        vertical-align: top;\n",
       "    }\n",
       "\n",
       "    .dataframe thead th {\n",
       "        text-align: right;\n",
       "    }\n",
       "</style>\n",
       "<table border=\"1\" class=\"dataframe\">\n",
       "  <thead>\n",
       "    <tr style=\"text-align: right;\">\n",
       "      <th></th>\n",
       "      <th>zipcode</th>\n",
       "    </tr>\n",
       "    <tr>\n",
       "      <th>city</th>\n",
       "      <th></th>\n",
       "    </tr>\n",
       "  </thead>\n",
       "  <tbody>\n",
       "    <tr>\n",
       "      <th>Seattle</th>\n",
       "      <td>35</td>\n",
       "    </tr>\n",
       "    <tr>\n",
       "      <th>Tacoma</th>\n",
       "      <td>23</td>\n",
       "    </tr>\n",
       "    <tr>\n",
       "      <th>Spokane</th>\n",
       "      <td>20</td>\n",
       "    </tr>\n",
       "    <tr>\n",
       "      <th>Vancouver</th>\n",
       "      <td>11</td>\n",
       "    </tr>\n",
       "    <tr>\n",
       "      <th>Renton</th>\n",
       "      <td>9</td>\n",
       "    </tr>\n",
       "  </tbody>\n",
       "</table>\n",
       "</div>"
      ],
      "text/plain": [
       "           zipcode\n",
       "city              \n",
       "Seattle         35\n",
       "Tacoma          23\n",
       "Spokane         20\n",
       "Vancouver       11\n",
       "Renton           9"
      ]
     },
     "execution_count": 8,
     "metadata": {},
     "output_type": "execute_result"
    }
   ],
   "source": [
    "# Counts by city and zipcode\n",
    "print('\\nTop 5 Cities by Zipcode Count')\n",
    "\n",
    "city_cnts = ev_df.groupby('city')['zipcode'].nunique()\n",
    "city_cnts_df = city_cnts.to_frame()\n",
    "city_cnts_df = city_cnts_df.sort_values('zipcode',ascending = False)\n",
    "\n",
    "city_cnts_df.head(5)"
   ]
  },
  {
   "cell_type": "code",
   "execution_count": 9,
   "metadata": {
    "scrolled": true
   },
   "outputs": [
    {
     "name": "stdout",
     "output_type": "stream",
     "text": [
      "\n",
      "Top 5 Sales by Brand Count\n"
     ]
    },
    {
     "data": {
      "text/html": [
       "<div>\n",
       "<style scoped>\n",
       "    .dataframe tbody tr th:only-of-type {\n",
       "        vertical-align: middle;\n",
       "    }\n",
       "\n",
       "    .dataframe tbody tr th {\n",
       "        vertical-align: top;\n",
       "    }\n",
       "\n",
       "    .dataframe thead th {\n",
       "        text-align: right;\n",
       "    }\n",
       "</style>\n",
       "<table border=\"1\" class=\"dataframe\">\n",
       "  <thead>\n",
       "    <tr style=\"text-align: right;\">\n",
       "      <th></th>\n",
       "      <th>make</th>\n",
       "      <th>count</th>\n",
       "    </tr>\n",
       "  </thead>\n",
       "  <tbody>\n",
       "    <tr>\n",
       "      <th>33</th>\n",
       "      <td>TESLA</td>\n",
       "      <td>77307</td>\n",
       "    </tr>\n",
       "    <tr>\n",
       "      <th>5</th>\n",
       "      <td>CHEVROLET</td>\n",
       "      <td>8404</td>\n",
       "    </tr>\n",
       "    <tr>\n",
       "      <th>17</th>\n",
       "      <td>KIA</td>\n",
       "      <td>7282</td>\n",
       "    </tr>\n",
       "    <tr>\n",
       "      <th>10</th>\n",
       "      <td>FORD</td>\n",
       "      <td>6670</td>\n",
       "    </tr>\n",
       "    <tr>\n",
       "      <th>26</th>\n",
       "      <td>NISSAN</td>\n",
       "      <td>6627</td>\n",
       "    </tr>\n",
       "  </tbody>\n",
       "</table>\n",
       "</div>"
      ],
      "text/plain": [
       "         make  count\n",
       "33      TESLA  77307\n",
       "5   CHEVROLET   8404\n",
       "17        KIA   7282\n",
       "10       FORD   6670\n",
       "26     NISSAN   6627"
      ]
     },
     "execution_count": 9,
     "metadata": {},
     "output_type": "execute_result"
    }
   ],
   "source": [
    "# Counts by make \n",
    "print('\\nTop 5 Sales by Brand Count')\n",
    "\n",
    "ev_df[['make']].groupby(['make'])['make'] \\\n",
    "                             .count() \\\n",
    "                             .reset_index(name='count') \\\n",
    "                             .sort_values(['count'], ascending=False) \\\n",
    "                             .head(5)"
   ]
  },
  {
   "cell_type": "code",
   "execution_count": 10,
   "metadata": {},
   "outputs": [
    {
     "data": {
      "text/plain": [
       "(129445, 13)"
      ]
     },
     "execution_count": 10,
     "metadata": {},
     "output_type": "execute_result"
    }
   ],
   "source": [
    "# Discard years 2018 and2024\n",
    "ev_df1 = ev_df[(ev_df['year']>2018)&(ev_df['year']<2024)]\n",
    "\n",
    "ev_df1.shape"
   ]
  },
  {
   "cell_type": "code",
   "execution_count": 11,
   "metadata": {
    "scrolled": false
   },
   "outputs": [
    {
     "data": {
      "image/png": "[encoded data removed]",
      "text/plain": [
       "<Figure size 640x480 with 1 Axes>"
      ]
     },
     "metadata": {},
     "output_type": "display_data"
    }
   ],
   "source": [
    "# Counts by year after year removal\n",
    "\n",
    "ev_cp1 = sns.countplot(data = ev_df1, x = 'year')\n",
    "\n",
    "ev_cp1.set_title('Washington State Electric Vehicle Sales By Year - After', \n",
    "                      fontdict={'size': 18, 'weight': 'bold', 'color': 'black'})\n",
    "ev_cp1.set_xlabel('Year', fontdict={'size': 12, 'weight': 'bold'})\n",
    "ev_cp1.set_ylabel('# Vehicles Sold', fontdict={'size': 12, 'weight': 'bold'})\n",
    "\n",
    "#Set x-axis labels bold\n",
    "plt.xticks(weight = 'bold')\n",
    "\n",
    "#Set y-axis labels and set to bold\n",
    "plt.yticks(weight = 'bold')\n",
    "\n",
    "# Show the plot\n",
    "plt.show()"
   ]
  },
  {
   "cell_type": "code",
   "execution_count": 12,
   "metadata": {},
   "outputs": [
    {
     "name": "stdout",
     "output_type": "stream",
     "text": [
      "The End\n"
     ]
    }
   ],
   "source": [
    "print('The End')"
   ]
  }
 ],
 "metadata": {
  "kernelspec": {
   "display_name": "Python 3 (ipykernel)",
   "language": "python",
   "name": "python3"
  },
  "language_info": {
   "codemirror_mode": {
    "name": "ipython",
    "version": 3
   },
   "file_extension": ".py",
   "mimetype": "text/x-python",
   "name": "python",
   "nbconvert_exporter": "python",
   "pygments_lexer": "ipython3",
   "version": "3.9.13"
  }
 },
 "nbformat": 4,
 "nbformat_minor": 1
}
